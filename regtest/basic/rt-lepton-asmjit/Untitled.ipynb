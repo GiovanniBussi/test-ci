{
 "cells": [
  {
   "cell_type": "code",
   "execution_count": 69,
   "metadata": {},
   "outputs": [],
   "source": [
    "import plumed\n",
    "import matplotlib.pyplot as plt\n",
    "import numpy as np"
   ]
  },
  {
   "cell_type": "code",
   "execution_count": 70,
   "metadata": {},
   "outputs": [],
   "source": [
    "val=plumed.read_as_pandas(\"tmp/colvar\")\n",
    "der=plumed.read_as_pandas(\"tmp/der\")"
   ]
  },
  {
   "cell_type": "code",
   "execution_count": 71,
   "metadata": {},
   "outputs": [
    {
     "data": {
      "text/plain": [
       "[<matplotlib.lines.Line2D at 0x114696410>]"
      ]
     },
     "execution_count": 71,
     "metadata": {},
     "output_type": "execute_result"
    },
    {
     "data": {
      "image/png": "[encoded data removed]",
      "text/plain": [
       "<Figure size 432x288 with 1 Axes>"
      ]
     },
     "metadata": {
      "needs_background": "light"
     },
     "output_type": "display_data"
    }
   ],
   "source": [
    "plt.plot(val.f0,val.f69)\n",
    "plt.plot(val.f0,der.f69)"
   ]
  },
  {
   "cell_type": "code",
   "execution_count": 31,
   "metadata": {},
   "outputs": [
    {
     "data": {
      "text/plain": [
       "40    1.0\n",
       "41    1.0\n",
       "42    1.0\n",
       "43    1.0\n",
       "44    1.0\n",
       "45    1.0\n",
       "46    1.0\n",
       "47    1.0\n",
       "48    1.0\n",
       "49    1.0\n",
       "50    1.0\n",
       "51    1.0\n",
       "52    1.0\n",
       "53    1.0\n",
       "54    1.0\n",
       "55    0.0\n",
       "56    0.0\n",
       "57    0.0\n",
       "58    0.0\n",
       "59    0.0\n",
       "Name: f55, dtype: float64"
      ]
     },
     "execution_count": 31,
     "metadata": {},
     "output_type": "execute_result"
    }
   ],
   "source": [
    "der.f55[40:60]"
   ]
  },
  {
   "cell_type": "code",
   "execution_count": 32,
   "metadata": {},
   "outputs": [
    {
     "data": {
      "text/plain": [
       "40   -1.0\n",
       "41   -0.9\n",
       "42   -0.8\n",
       "43   -0.7\n",
       "44   -0.6\n",
       "45   -0.5\n",
       "46   -0.4\n",
       "47   -0.3\n",
       "48   -0.2\n",
       "49   -0.1\n",
       "50    0.0\n",
       "51    0.1\n",
       "52    0.2\n",
       "53    0.3\n",
       "54    0.4\n",
       "55    0.5\n",
       "56    0.5\n",
       "57    0.5\n",
       "58    0.5\n",
       "59    0.5\n",
       "Name: f55, dtype: float64"
      ]
     },
     "execution_count": 32,
     "metadata": {},
     "output_type": "execute_result"
    }
   ],
   "source": [
    "val.f55[40:60]"
   ]
  },
  {
   "cell_type": "code",
   "execution_count": null,
   "metadata": {},
   "outputs": [],
   "source": []
  }
 ],
 "metadata": {
  "kernelspec": {
   "display_name": "Python 3",
   "language": "python",
   "name": "python3"
  },
  "language_info": {
   "codemirror_mode": {
    "name": "ipython",
    "version": 3
   },
   "file_extension": ".py",
   "mimetype": "text/x-python",
   "name": "python",
   "nbconvert_exporter": "python",
   "pygments_lexer": "ipython3",
   "version": "3.7.9"
  }
 },
 "nbformat": 4,
 "nbformat_minor": 4
}
